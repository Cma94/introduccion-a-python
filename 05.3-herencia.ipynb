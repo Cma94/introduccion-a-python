{
 "cells": [
  {
   "cell_type": "markdown",
   "metadata": {},
   "source": [
    "A partir del código siguiente se pide"
   ]
  },
  {
   "cell_type": "code",
   "execution_count": 18,
   "metadata": {},
   "outputs": [],
   "source": [
    "import math\n",
    "\n",
    "class Shape(object):\n",
    "    \"\"\"A generic shape object.\"\"\"\n",
    "    \n",
    "    def area(self):\n",
    "        \"\"\"Return area of the shape.\"\"\"\n",
    "        pass\n",
    "    \n",
    "    def perimeter(self):\n",
    "        \n",
    "        pass"
   ]
  },
  {
   "cell_type": "markdown",
   "metadata": {},
   "source": [
    "Implementar las clases `Square`, `Rectangle` y  `Circle`, sobreescribiendo los métodos `area` y `perimeter` para que muestren los resultados correctos"
   ]
  },
  {
   "cell_type": "code",
   "execution_count": 60,
   "metadata": {},
   "outputs": [
    {
     "name": "stdout",
     "output_type": "stream",
     "text": [
      "<Rectangle , lado 1: 2, lado 2: 4 >\n",
      "8\n",
      "12\n",
      "<Square , lado: 21 >\n",
      "<Rectangle , lado 1: 5, lado 2: 11 >\n"
     ]
    }
   ],
   "source": [
    "class Square(Shape):\n",
    "    def __init__(self, lado):\n",
    "        Shape.__init__(self)\n",
    "        self.lado=lado\n",
    "    def area(self):\n",
    "        return self.lado**2\n",
    "    def perimeter(self):\n",
    "        return self.lado*4\n",
    "    def suma(self,other):\n",
    "        return Square(self.lado+other.lado)\n",
    "    def resta(self,other):\n",
    "        return Square(self.lado-other.lado)\n",
    "    def multiplicacion(self,other):\n",
    "        return Square(self.lado*other.lado)\n",
    "    def __str__(self):\n",
    "        return \"<Square , lado: \" + str(self.lado) + \" >\"\n",
    "        \n",
    "class Rectangle(Shape):\n",
    "    def __init__(self, lado1, lado2):\n",
    "        Shape.__init__(self)\n",
    "        self.lado1=lado1\n",
    "        self.lado2=lado2\n",
    "    def area(self):\n",
    "        return self.lado1*self.lado2\n",
    "    def perimeter(self):\n",
    "        return self.lado1*2 + self.lado2*2\n",
    "    def suma(self,other):\n",
    "        return Rectangle(self.lado1 + other.lado1, self.lado2 + other.lado2)\n",
    "    def resta(self,other):\n",
    "        return Rectangle(self.lado1 - other.lado1, self.lado2 - other.lado2)\n",
    "    def multiplicacion(self,other):\n",
    "        return Rectangle(self.lado1 * other.lado1, self.lado2 * other.lado2)\n",
    "    def __str__(self):\n",
    "        return \"<Rectangle , lado 1: \" + str(self.lado1) + \", lado 2: \" + str(self.lado2) + \" >\"\n",
    "\n",
    "class Circle(Shape):\n",
    "    def __init__(self, radio):\n",
    "        Shape.__init__(self)\n",
    "        self.radio=radio\n",
    "    def area(self):\n",
    "        return math.pi*self.radio**2\n",
    "    def perimeter(self):\n",
    "        return 2*math.pi*self.radio\n",
    "    def suma(self,other):\n",
    "        return Circle(self.radio+other.radio)\n",
    "    def resta(self,other):\n",
    "        return Square(self.radio-other.radio)\n",
    "    def multiplicacion(self,other):\n",
    "        return Square(self.radio*other.radio) \n",
    "    \n",
    "    def __str__(self):\n",
    "        return \"<Circle , radio: \" + str(self.radio) + \" >\"\n",
    "    \n",
    "    \n",
    "\n",
    "a=Square(3)\n",
    "b=Square(7)\n",
    "c=Rectangle(2,4)\n",
    "d=Rectangle(3,7)\n",
    "print(c)\n",
    "print(c.area())\n",
    "print(c.perimeter())\n",
    "print(a.multiplicacion(b))\n",
    "print(c.suma(d))"
   ]
  },
  {
   "cell_type": "markdown",
   "metadata": {},
   "source": [
    "Implementar las operaciones de suma, resta, y multiplicación, suponiendo que la suma, resta y multiplicación solo se puede realizar entre objetos del mismo tipo, y que la operación se realiza sobre sus dimensiones (es decir, la suma de dos círculos se realiza sumando sus radios de su circunferencia."
   ]
  },
  {
   "cell_type": "code",
   "execution_count": null,
   "metadata": {},
   "outputs": [],
   "source": []
  },
  {
   "cell_type": "code",
   "execution_count": null,
   "metadata": {},
   "outputs": [],
   "source": []
  },
  {
   "cell_type": "code",
   "execution_count": null,
   "metadata": {},
   "outputs": [],
   "source": []
  }
 ],
 "metadata": {
  "kernelspec": {
   "display_name": "Python 3",
   "language": "python",
   "name": "python3"
  },
  "language_info": {
   "codemirror_mode": {
    "name": "ipython",
    "version": 3
   },
   "file_extension": ".py",
   "mimetype": "text/x-python",
   "name": "python",
   "nbconvert_exporter": "python",
   "pygments_lexer": "ipython3",
   "version": "3.6.5"
  }
 },
 "nbformat": 4,
 "nbformat_minor": 2
}
